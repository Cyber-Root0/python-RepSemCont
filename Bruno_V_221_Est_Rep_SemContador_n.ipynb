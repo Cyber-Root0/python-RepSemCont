{
  "nbformat": 4,
  "nbformat_minor": 0,
  "metadata": {
    "colab": {
      "name": "Bruno V. - 221_Est_Rep_SemContador_n.ipynb",
      "provenance": [],
      "collapsed_sections": [],
      "include_colab_link": true
    },
    "kernelspec": {
      "name": "python3",
      "display_name": "Python 3"
    }
  },
  "cells": [
    {
      "cell_type": "markdown",
      "metadata": {
        "id": "view-in-github",
        "colab_type": "text"
      },
      "source": [
        "<a href=\"https://colab.research.google.com/github/Cyber-Root0/python-RepSemCont/blob/main/Bruno_V_221_Est_Rep_SemContador_n.ipynb\" target=\"_parent\"><img src=\"https://colab.research.google.com/assets/colab-badge.svg\" alt=\"Open In Colab\"/></a>"
      ]
    },
    {
      "cell_type": "markdown",
      "metadata": {
        "id": "E64RcqHIMXAS"
      },
      "source": [
        "### **EXERCÍCIOS DE ESTRUTURA DE REPETIÇÃO SEM CONTADOR**\n"
      ]
    },
    {
      "cell_type": "markdown",
      "metadata": {
        "id": "_q0kBpMGMbRF"
      },
      "source": [
        "###1. Construir um algoritmo para calcular e apresentar o total de salários pagos de funcionários, mas não é informado a quantidade de pessoas, então use como critério de parada (condição da estrutura de repetição, digitar zero no salário para sair.\n"
      ]
    },
    {
      "cell_type": "code",
      "metadata": {
        "id": "uLE2w6-aMadI"
      },
      "source": [
        "salario=float(input('Para sair do programa, digite 0')) \n",
        "tot_salario=0\n",
        "while salario>0:\n",
        "  tot_salario=tot_salario+salario\n",
        "  salario=float(input('Para sair do programa, digite 0'))\n",
        "print('O Total é: ',tot_salario)\n"
      ],
      "execution_count": null,
      "outputs": []
    },
    {
      "cell_type": "markdown",
      "metadata": {
        "id": "y7gc7ImtKBee"
      },
      "source": [
        "###2. Faça um programa que receba a altura de 5 pessoas. Encontre e apresente a altura da pessoa mais alta e da mais baixa e seus respectivos nomes."
      ]
    },
    {
      "cell_type": "code",
      "metadata": {
        "id": "r3DxVv2mKIcR"
      },
      "source": [
        "maior=0\n",
        "menor=0\n",
        "nome_menor=''\n",
        "nome_maior=''\n",
        "for pessoas in range(5):\n",
        "  altura=float(input('Informe a altura: '))\n",
        "  nome=input('Digite o nome: ')\n",
        "  print('==============================')\n",
        "  if pessoas==0:\n",
        "    maior=altura\n",
        "    menor=altura\n",
        "  if altura>maior:\n",
        "    maior=altura\n",
        "    nome_maior=nome\n",
        "  elif altura<menor:\n",
        "    menor=altura\n",
        "    nome_menor=nome\n",
        "print('Maior: ',maior,' Metros','- (',nome_maior,')')\n",
        "print('Menor: ',menor,' Metros','- (',nome_menor,')')"
      ],
      "execution_count": null,
      "outputs": []
    },
    {
      "cell_type": "markdown",
      "metadata": {
        "id": "Dk1zCWGbJezq"
      },
      "source": [
        "###3. Faça um programa que receba a altura de várias pessoas. Encontre e apresente a altura da pessoa mais alta e da mais baixa e seus respectivos nomes. Para encerrar a entrada de dados, zero na altura, mas esta não poderá ser considerada como resposta da altura da pessoa mais baixa.\n"
      ]
    },
    {
      "cell_type": "code",
      "metadata": {
        "id": "C-W0c_6rKKwh"
      },
      "source": [
        "maior=0\n",
        "menor=0\n",
        "nome_menor=''\n",
        "nome_maior=''\n",
        "altura=float(input('Informe a Altura ou Digite 0 para sair.\\n '))\n",
        "while altura>0:\n",
        "  nome=input('Informe o Nome: ')\n",
        "  print('------------------------------------')\n",
        "  if maior==0 and menor==0:\n",
        "    maior=altura\n",
        "    menor=altura\n",
        "  if altura>maior:\n",
        "    maior=altura\n",
        "    nome_maior=nome\n",
        "  elif altura<menor:\n",
        "    menor=altura\n",
        "    nome_menor=nome\n",
        "  altura=float(input('Informe a Altura ou Digite 0 para sair.\\n'))\n",
        "print('Maior: ',maior,' Metros','- (',nome_maior,')')\n",
        "print('Menor: ',menor,' Metros','- (',nome_menor,')')"
      ],
      "execution_count": null,
      "outputs": []
    },
    {
      "cell_type": "markdown",
      "source": [
        ""
      ],
      "metadata": {
        "id": "YKlYEjrqFogC"
      }
    },
    {
      "cell_type": "markdown",
      "metadata": {
        "id": "mWl0IWlJNEtA"
      },
      "source": [
        "###4. Faça um programa que receba a idade e a altura de várias pessoas. Calcule e exiba a média das alturas das pessoas com mais de 20 anos. Para encerrar a entrada de dados, digite uma idade negativa ou igual a zero.\n",
        "\n",
        "\n"
      ]
    },
    {
      "cell_type": "code",
      "metadata": {
        "id": "IcSBSaDV8sO_"
      },
      "source": [
        "idade=float(input('Para sair do programa, digite 0 ou Digite a Idade: '))\n",
        "c=0\n",
        "altura_t=0\n",
        "while idade>0:\n",
        "  altura=float(input('Informe a Altura: '))\n",
        "  print('=============================\\n')\n",
        "  if idade>20:\n",
        "    c=c+1\n",
        "    altura_t=altura_t+altura\n",
        "  idade=float(input('Para sair do programa, digite 0 ou Digite a Idade: '))\n",
        "if c==0:\n",
        "  print('A Média das Alturas é: ',c)\n",
        "else:\n",
        "  print('A Média das Alturas é: ',altura_t/c)"
      ],
      "execution_count": null,
      "outputs": []
    },
    {
      "cell_type": "markdown",
      "metadata": {
        "id": "14hzaqH38V53"
      },
      "source": [
        "###5. Construir um algoritmo para calcular e apresentar a idade atual de algumas pessoas em relação ao ano atual, mas não é informado a quantidade de pessoas, então use como critério de parada (condição da estrutura de repetição, digitar zero no ano de nascimento para sair."
      ]
    },
    {
      "cell_type": "code",
      "metadata": {
        "id": "XxrUc9yWND8a"
      },
      "source": [
        "dt_nasc=int(input('Informe o Ano de nascimento, ou Digite 0 para sair: '))\n",
        "while dt_nasc>0:\n",
        "  ano_atual=int(input('Digite o Ano Atual: '))\n",
        "  print('Sua idade é: ',ano_atual-dt_nasc,' Anos')\n",
        "  print('====================\\n')\n",
        "  dt_nasc=int(input('Informe o Ano de nascimento, ou Digite 0 para sair: '))\n",
        "print('Programa Finalizado')"
      ],
      "execution_count": null,
      "outputs": []
    },
    {
      "cell_type": "markdown",
      "metadata": {
        "id": "inPGbmBaMe3R"
      },
      "source": [
        "###6. Faça um programa que receba um conjunto de valores inteiros, calcule e exiba o maior e o menor valor do conjunto.\n",
        "\n",
        "\n",
        "*   Para encerrar a entrada de dados, deve ser digitado o valor zero;\n",
        "*   Para valores negativos, deve ser enviada uma mensagem;\n",
        "*   Esses valores (zero e negativos) não entrarão na lógica de encontrar o maior e o menor valor.\n",
        "\n"
      ]
    },
    {
      "cell_type": "code",
      "metadata": {
        "id": "Q8ZKZyGLNxFf",
        "colab": {
          "base_uri": "https://localhost:8080/"
        },
        "outputId": "c900f1eb-c417-4e6a-fec9-053f804800b7"
      },
      "source": [
        "maior=0\n",
        "menor=9999999999999999999999999999999999999\n",
        "n=float(input('Digite 0 para encerrar o programa ou Digite um numero: '))\n",
        "while n>0:\n",
        "  if n>maior:\n",
        "    maior=n\n",
        "  elif n<maior and n<menor:\n",
        "    menor=n\n",
        "  n=float(input('Digite 0 para encerrar o programa ou Digite um numero: '))\n",
        "print('O Maior Valor: ',maior,'\\nO Menor Valor: ',menor,'\\nPrograma Finalizado!')\n",
        "\n",
        "\n",
        "\n"
      ],
      "execution_count": 12,
      "outputs": [
        {
          "output_type": "stream",
          "name": "stdout",
          "text": [
            "Digite 0 para encerrar o programa ou Digite um numero: 96\n",
            "Digite 0 para encerrar o programa ou Digite um numero: 52\n",
            "Digite 0 para encerrar o programa ou Digite um numero: 24\n",
            "Digite 0 para encerrar o programa ou Digite um numero: 12\n",
            "Digite 0 para encerrar o programa ou Digite um numero: 85\n",
            "Digite 0 para encerrar o programa ou Digite um numero: 105\n",
            "Digite 0 para encerrar o programa ou Digite um numero: 6\n",
            "Digite 0 para encerrar o programa ou Digite um numero: 0\n",
            "O Maior Valor:  105.0 \n",
            "O Menor Valor:  6.0 \n",
            "Programa Finalizado!\n"
          ]
        }
      ]
    },
    {
      "cell_type": "markdown",
      "metadata": {
        "id": "ZG-AZwwLN4Vf"
      },
      "source": [
        "###7. No final do ano muitas pessoas compram presentes. Faça um programa que registre alguns dados das pessoas, usando como critério de parada a letra ‘n’, para a pergunta “Deseja cadastrar outro (‘s’/’n’)?”, para identificar o perfil dos compradores numa loja de roupas e apresente como resultado a:\n",
        "a)   Quantidade de mulheres e de homens;\n",
        "\n",
        "b)   Quantidade de mulheres e de homens abaixo e acima de 18 anos."
      ]
    },
    {
      "cell_type": "code",
      "metadata": {
        "id": "t4jNff-_N9xR",
        "colab": {
          "base_uri": "https://localhost:8080/"
        },
        "outputId": "a677537d-c322-4a16-b89c-ca622d59c84c"
      },
      "source": [
        "# Digite seu código aqui\n",
        "# item a) 2 contadores\n",
        "# item b) 4 contadores \n",
        "h=0; m=0; m18=0; h18=0; mm=0; hh=0;\n",
        "sair=input(\"Deseja Cadastra um usuario(s/n)?\")\n",
        "while sair=='s':\n",
        "  genero=input('Para Mulher digite (M)\\nPara Homem digite(H)\\n')\n",
        "  idade=int(input('Digite a Idade: '))\n",
        "  print('==================\\n')\n",
        "  if genero==\"H\" or genero==\"h\":\n",
        "    h=h+1;\n",
        "    if idade>18:\n",
        "      h18=h18+1\n",
        "    else:\n",
        "      hh=hh+1\n",
        "  elif genero==\"M\" or genero==\"m\":\n",
        "    m=m+1;\n",
        "    if idade>18:\n",
        "      m18=m18+1\n",
        "    else:\n",
        "      mm=mm+1\n",
        "  sair=input(\"Deseja Cadastra um usuario(s/n)?\")\n",
        "print('MULHERES\\n====================\\nQuantidade: ',m,'\\nMaiores de 18 anos: ',m18,'\\nMenores de 18 anos: ',mm,'\\n==========================\\nHOMENS\\n==================\\nQuantidade: ',h,'\\nMaiores de 18 anos: ',h18,'\\nMenoers de 18 anos: ',hh)\n",
        "\n"
      ],
      "execution_count": 14,
      "outputs": [
        {
          "output_type": "stream",
          "name": "stdout",
          "text": [
            "Deseja Cadastra um usuario(s/n)?s\n",
            "Para Mulher digite (M)\n",
            "Para Homem digite(H)\n",
            "H\n",
            "Digite a Idade: 25\n",
            "==================\n",
            "\n",
            "Deseja Cadastra um usuario(s/n)?s\n",
            "Para Mulher digite (M)\n",
            "Para Homem digite(H)\n",
            "H\n",
            "Digite a Idade: 12\n",
            "==================\n",
            "\n",
            "Deseja Cadastra um usuario(s/n)?s\n",
            "Para Mulher digite (M)\n",
            "Para Homem digite(H)\n",
            "M\n",
            "Digite a Idade: 12\n",
            "==================\n",
            "\n",
            "Deseja Cadastra um usuario(s/n)?s\n",
            "Para Mulher digite (M)\n",
            "Para Homem digite(H)\n",
            "M\n",
            "Digite a Idade: 13\n",
            "==================\n",
            "\n",
            "Deseja Cadastra um usuario(s/n)?n\n",
            "MULHERES\n",
            "====================\n",
            "Quantidade:  2 \n",
            "Maiores de 18 anos:  0 \n",
            "Menores de 18 anos:  2 \n",
            "==========================\n",
            "HOMENS\n",
            "==================\n",
            "Quantidade:  2 \n",
            "Maiores de 18 anos:  1 \n",
            "Menoers de 18 anos:  1\n"
          ]
        }
      ]
    }
  ]
}